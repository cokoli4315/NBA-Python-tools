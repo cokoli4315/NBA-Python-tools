{
 "cells": [
  {
   "cell_type": "code",
   "execution_count": 124,
   "metadata": {},
   "outputs": [
    {
     "data": {
      "text/plain": [
       "'sixteen'"
      ]
     },
     "execution_count": 124,
     "metadata": {},
     "output_type": "execute_result"
    }
   ],
   "source": [
    "def say(n):\n",
    "\n",
    "    if n<0 or n>999999999999:\n",
    "        raise ValueError(\"input out of range\")\n",
    "    strs=''\n",
    "    digit_to_word = {\n",
    "    '0':['zero','none'],\n",
    "    '1':['one','none'] ,   \n",
    "    '2': ['two', 'twenty'],  \n",
    "    '3': ['three', 'thirty'],  \n",
    "    '4': ['four', 'forty'],  \n",
    "    '5': ['five', 'fifty'],  \n",
    "    '6': ['six', 'sixty'],  \n",
    "    '7': ['seven', 'seventy'],  \n",
    "    '8': ['eight', 'eighty'],  \n",
    "    '9': ['nine', 'ninety'],\n",
    "    '10':'ten',\n",
    "    '11':'eleven',\n",
    "    '12':'twelve',\n",
    "    '13':'thirteen'\n",
    "    '14''fourteen',\n",
    "    '15':'fifteen',\n",
    "    '16':'sixteen',\n",
    "    '17':'seventeen',\n",
    "    '18':'eighteen',\n",
    "    '19':'ninteen'\n",
    "\n",
    "\n",
    "}  \n",
    "    \n",
    "    if n >0 and n<=9:\n",
    "        return digit_to_word[str(n)][0]\n",
    "    if n>10 and n<=19:\n",
    "        return digit_to_word[str(n)]\n",
    "\n",
    "    if n>19 and n<=99:\n",
    "        first_dig=str(n)[0]\n",
    "        second_digit=str(n)[1]\n",
    "        for index in digit_to_word.keys():\n",
    "            if first_dig==index:\n",
    "                strs=f'{strs} {digit_to_word[index][1]}'\n",
    "        for index in digit_to_word.keys():\n",
    "            if second_digit==index:\n",
    "                strs=f'{strs} {digit_to_word[index][0]}'\n",
    "\n",
    "    \n",
    "\n",
    "    \n",
    "            \n",
    "\n",
    "\n",
    "\n",
    "    return strs\n",
    "\n",
    "\n",
    "  \n",
    "say(16)\n",
    "    \n",
    "\n",
    "  "
   ]
  },
  {
   "cell_type": "code",
   "execution_count": 6,
   "metadata": {},
   "outputs": [
    {
     "name": "stdout",
     "output_type": "stream",
     "text": [
      "100\n",
      "2\n",
      "10\n",
      "20\n",
      "1\n",
      "200\n",
      "0\n",
      "2001\n",
      "Not a palindrome!\n"
     ]
    },
    {
     "data": {
      "text/plain": [
       "1002"
      ]
     },
     "execution_count": 6,
     "metadata": {},
     "output_type": "execute_result"
    }
   ],
   "source": [
    "num=int(input(\"Enter a number:\"))\n",
    "temp=num\n",
    "rev=0\n",
    "while(num>0):\n",
    "    \n",
    "    dig=num%10\n",
    "    rev=rev*10+dign\n",
    "    num=num//10\n",
    "    print(rev)\n",
    "if(temp==rev):\n",
    "    print(\"The number is palindrome!\")\n",
    "else:\n",
    "    print(\"Not a palindrome!\")\n",
    "\n",
    "\n",
    "1002\n"
   ]
  },
  {
   "cell_type": "code",
   "execution_count": null,
   "metadata": {},
   "outputs": [],
   "source": [
    "df={'id':[1,2,3,4],'name':['Joe','Henry','Sam','Max']}\n",
    "\n",
    "dfs=pd"
   ]
  },
  {
   "cell_type": "code",
   "execution_count": 3,
   "metadata": {},
   "outputs": [
    {
     "data": {
      "text/plain": [
       "100"
      ]
     },
     "execution_count": 3,
     "metadata": {},
     "output_type": "execute_result"
    }
   ],
   "source": [
    "1002%10\n",
    "\n",
    "rev=2\n",
    "\n",
    "1002//10"
   ]
  },
  {
   "cell_type": "code",
   "execution_count": null,
   "metadata": {},
   "outputs": [],
   "source": [
    "import pandas as pd\n",
    "\n",
    "def find_employees(employee: pd.DataFrame) -> pd.DataFrame:\n",
    "    new_df=pd.DataFrame()\n",
    "\n",
    "    #Get index of managers that are not null\n",
    "    indices = employee[employee['managerId'].notnull()].index.tolist()\n",
    "    #print(indices)\n",
    "    \n",
    "    my_dict = {'Employee':[]}\n",
    "    for i, value in enumerate(employee):\n",
    "        if i in indices:\n",
    "            #idx_val = employee[employee['id'] == employee['managerId'][i]].index[0]\n",
    "            employee[employee['id'] == employee['managerId'][i]]\n",
    "            if not filtered.empty:\n",
    "                idx_vals = filtered.index.tolist()\n",
    "\n",
    "            #print(idx_val)\n",
    "            for idx in idx_vals:\n",
    "                if employee['salary'][i] > employee['salary'][idx]:\n",
    "                    to_add = employee['name'][i]\n",
    "                    my_dict['Employee'].append(to_add)\n",
    "                else:\n",
    "                    continue\n",
    "            #if(employee['salary'][i] > employee['salary'][idx_val]):\n",
    "             #   to_add = employee['name'][i]\n",
    "              #  my_dict['Employee'].append(to_add) \n",
    "                #print(employee['name'][i])\n",
    "            #else:\n",
    "             #   continue\n",
    "        else:\n",
    "            continue\n",
    "    new_df = pd.DataFrame(my_dict)\n",
    "    \n",
    "    #print(new_df)\n",
    "\n",
    "    return new_df"
   ]
  },
  {
   "cell_type": "code",
   "execution_count": null,
   "metadata": {},
   "outputs": [],
   "source": [
    "import pandas as pd\n",
    "\n",
    "def find_employees(employee: pd.DataFrame) -> pd.DataFrame:\n",
    "    new_df=pd.DataFrame()\n",
    "    \n",
    "    employee.sort_values(by=['managerId','id'],inplace=True,ascending=True)\n",
    "    #employee.sort_values(by='id',inplace=True)\n",
    "    print(employee)\n",
    "    my_dict={'Employee':[]}\n",
    "    for i,v in enumerate(employee[employee['managerId'].notnull()]['managerId']):\n",
    "        print(v)\n",
    "        if employee['salary'][i] >employee['salary'][v-1]:\n",
    "            to_add=employee['name'][i]\n",
    "            my_dict['Employee'].append(to_add)\n",
    "\n",
    "    new_df=pd.DataFrame(my_dict)\n",
    "\n",
    "    return new_df"
   ]
  },
  {
   "cell_type": "code",
   "execution_count": null,
   "metadata": {},
   "outputs": [],
   "source": [
    "df=df.sort_values(by='S[]alary',ascending=False)\n",
    "df=pd.merge(df1,df2, on='id',how='left')"
   ]
  }
 ],
 "metadata": {
  "kernelspec": {
   "display_name": "base",
   "language": "python",
   "name": "python3"
  },
  "language_info": {
   "codemirror_mode": {
    "name": "ipython",
    "version": 3
   },
   "file_extension": ".py",
   "mimetype": "text/x-python",
   "name": "python",
   "nbconvert_exporter": "python",
   "pygments_lexer": "ipython3",
   "version": "3.9.13"
  },
  "orig_nbformat": 4
 },
 "nbformat": 4,
 "nbformat_minor": 2
}
